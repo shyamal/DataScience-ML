{
 "cells": [
  {
   "cell_type": "code",
   "execution_count": 62,
   "id": "aae8d25c-b7d9-4bbd-9925-82947bc77580",
   "metadata": {},
   "outputs": [
    {
     "name": "stdout",
     "output_type": "stream",
     "text": [
      "(100000, 3)\n",
      "   company_id                                            address  total_spend\n",
      "0           1  APARTMENT 2,\\n52 BEDFORD ROAD,\\nLONDON,\\nENGLA...         5700\n",
      "1           2           107 SHERINGHAM AVENUE,\\nLONDON,\\nN14 4UJ         4700\n",
      "2           3  43 SUNNINGDALE,\\nYATE,\\nBRISTOL,\\nENGLAND,\\nBS...         5900\n",
      "3           4  HAWESWATER HOUSE,\\nLINGLEY MERE BUSINESS PARK,...         7200\n",
      "4           5  AMBERFIELD BARN HOUSE AMBER LANE,\\nCHART SUTTO...         4600\n"
     ]
    }
   ],
   "source": [
    "import pandas as pd\n",
    "\n",
    "customers = pd.read_csv(\"./data/addresses.csv\")\n",
    "\n",
    "print(customers.shape)\n",
    "print(customers.head())"
   ]
  },
  {
   "cell_type": "markdown",
   "id": "f05b94fb-87fc-4260-ad08-5307bf3253ef",
   "metadata": {},
   "source": [
    "## INVESTIGATING MISSING VALUES"
   ]
  },
  {
   "cell_type": "code",
   "execution_count": 64,
   "id": "b7ccae75-4f2d-4c4e-9203-b4e8fc917606",
   "metadata": {},
   "outputs": [
    {
     "data": {
      "text/plain": [
       "company_id       0\n",
       "address        968\n",
       "total_spend      0\n",
       "dtype: int64"
      ]
     },
     "execution_count": 64,
     "metadata": {},
     "output_type": "execute_result"
    }
   ],
   "source": [
    "customers.isnull().sum()"
   ]
  },
  {
   "cell_type": "code",
   "execution_count": 65,
   "id": "79dcd55e-ceea-4670-9115-431efd0d11aa",
   "metadata": {},
   "outputs": [],
   "source": [
    "## drop null records\n",
    "customers = customers.dropna(subset=[\"address\"])"
   ]
  },
  {
   "cell_type": "markdown",
   "id": "eec618e1-de04-4d9c-9726-e54e59334849",
   "metadata": {},
   "source": [
    "check if our total_spend col-umn contains any strange values"
   ]
  },
  {
   "cell_type": "code",
   "execution_count": 67,
   "id": "b4d49fa2-83ca-4bee-9bc1-65659717395b",
   "metadata": {},
   "outputs": [
    {
     "data": {
      "text/plain": [
       "count    99032.000000\n",
       "mean      4951.673197\n",
       "std       1500.642398\n",
       "min          0.000000\n",
       "25%       3900.000000\n",
       "50%       5000.000000\n",
       "75%       6000.000000\n",
       "max      11700.000000\n",
       "Name: total_spend, dtype: float64"
      ]
     },
     "execution_count": 67,
     "metadata": {},
     "output_type": "execute_result"
    }
   ],
   "source": [
    "customers[\"total_spend\"].describe()"
   ]
  },
  {
   "cell_type": "markdown",
   "id": "baf8e9d3-3229-42e5-afb9-c2eb1180546b",
   "metadata": {},
   "source": [
    "## EXTRACTING CITY COLUMN FROM ADDRESSES"
   ]
  },
  {
   "cell_type": "code",
   "execution_count": 69,
   "id": "620d3d04-ad48-44f7-8b43-7552092b2c61",
   "metadata": {},
   "outputs": [
    {
     "name": "stdout",
     "output_type": "stream",
     "text": [
      "APARTMENT 2,\n",
      "52 BEDFORD ROAD,\n",
      "LONDON,\n",
      "ENGLAND,\n",
      "SW4 7HJ \n",
      "\n",
      "107 SHERINGHAM AVENUE,\n",
      "LONDON,\n",
      "N14 4UJ \n",
      "\n",
      "43 SUNNINGDALE,\n",
      "YATE,\n",
      "BRISTOL,\n",
      "ENGLAND,\n",
      "BS37 4HZ \n",
      "\n",
      "HAWESWATER HOUSE,\n",
      "LINGLEY MERE BUSINESS PARK,\n",
      "LINGLEY GREEN AVENUE,\n",
      "GREAT SANKEY, WARRINGTON,\n",
      "WA5 3LP \n",
      "\n",
      "AMBERFIELD BARN HOUSE AMBER LANE,\n",
      "CHART SUTTON,\n",
      "MAIDSTONE,\n",
      "ENGLAND,\n",
      "ME17 3SF \n",
      "\n"
     ]
    }
   ],
   "source": [
    "for address in customers[\"address\"].head():\n",
    "    print(address, \"\\n\")"
   ]
  },
  {
   "cell_type": "markdown",
   "id": "10abd2c9-e4c5-488d-ad18-a937b3b3c333",
   "metadata": {},
   "source": [
    "for filter address contain \"“London,\". Dataset address show as uppercase letter. we need to make sure all address is in uppercase. We create new address column with uppercase letter."
   ]
  },
  {
   "cell_type": "code",
   "execution_count": 71,
   "id": "1f4e3839-f5ea-41b8-bad6-22991d2cae81",
   "metadata": {},
   "outputs": [
    {
     "data": {
      "text/html": [
       "<div>\n",
       "<style scoped>\n",
       "    .dataframe tbody tr th:only-of-type {\n",
       "        vertical-align: middle;\n",
       "    }\n",
       "\n",
       "    .dataframe tbody tr th {\n",
       "        vertical-align: top;\n",
       "    }\n",
       "\n",
       "    .dataframe thead th {\n",
       "        text-align: right;\n",
       "    }\n",
       "</style>\n",
       "<table border=\"1\" class=\"dataframe\">\n",
       "  <thead>\n",
       "    <tr style=\"text-align: right;\">\n",
       "      <th></th>\n",
       "      <th>company_id</th>\n",
       "      <th>address</th>\n",
       "      <th>total_spend</th>\n",
       "      <th>address_clean</th>\n",
       "    </tr>\n",
       "  </thead>\n",
       "  <tbody>\n",
       "    <tr>\n",
       "      <th>0</th>\n",
       "      <td>1</td>\n",
       "      <td>APARTMENT 2,\\n52 BEDFORD ROAD,\\nLONDON,\\nENGLA...</td>\n",
       "      <td>5700</td>\n",
       "      <td>APARTMENT 2,\\n52 BEDFORD ROAD,\\nLONDON,\\nENGLA...</td>\n",
       "    </tr>\n",
       "    <tr>\n",
       "      <th>1</th>\n",
       "      <td>2</td>\n",
       "      <td>107 SHERINGHAM AVENUE,\\nLONDON,\\nN14 4UJ</td>\n",
       "      <td>4700</td>\n",
       "      <td>107 SHERINGHAM AVENUE,\\nLONDON,\\nN14 4UJ</td>\n",
       "    </tr>\n",
       "    <tr>\n",
       "      <th>2</th>\n",
       "      <td>3</td>\n",
       "      <td>43 SUNNINGDALE,\\nYATE,\\nBRISTOL,\\nENGLAND,\\nBS...</td>\n",
       "      <td>5900</td>\n",
       "      <td>43 SUNNINGDALE,\\nYATE,\\nBRISTOL,\\nENGLAND,\\nBS...</td>\n",
       "    </tr>\n",
       "    <tr>\n",
       "      <th>3</th>\n",
       "      <td>4</td>\n",
       "      <td>HAWESWATER HOUSE,\\nLINGLEY MERE BUSINESS PARK,...</td>\n",
       "      <td>7200</td>\n",
       "      <td>HAWESWATER HOUSE,\\nLINGLEY MERE BUSINESS PARK,...</td>\n",
       "    </tr>\n",
       "    <tr>\n",
       "      <th>4</th>\n",
       "      <td>5</td>\n",
       "      <td>AMBERFIELD BARN HOUSE AMBER LANE,\\nCHART SUTTO...</td>\n",
       "      <td>4600</td>\n",
       "      <td>AMBERFIELD BARN HOUSE AMBER LANE,\\nCHART SUTTO...</td>\n",
       "    </tr>\n",
       "  </tbody>\n",
       "</table>\n",
       "</div>"
      ],
      "text/plain": [
       "   company_id                                            address  total_spend  \\\n",
       "0           1  APARTMENT 2,\\n52 BEDFORD ROAD,\\nLONDON,\\nENGLA...         5700   \n",
       "1           2           107 SHERINGHAM AVENUE,\\nLONDON,\\nN14 4UJ         4700   \n",
       "2           3  43 SUNNINGDALE,\\nYATE,\\nBRISTOL,\\nENGLAND,\\nBS...         5900   \n",
       "3           4  HAWESWATER HOUSE,\\nLINGLEY MERE BUSINESS PARK,...         7200   \n",
       "4           5  AMBERFIELD BARN HOUSE AMBER LANE,\\nCHART SUTTO...         4600   \n",
       "\n",
       "                                       address_clean  \n",
       "0  APARTMENT 2,\\n52 BEDFORD ROAD,\\nLONDON,\\nENGLA...  \n",
       "1           107 SHERINGHAM AVENUE,\\nLONDON,\\nN14 4UJ  \n",
       "2  43 SUNNINGDALE,\\nYATE,\\nBRISTOL,\\nENGLAND,\\nBS...  \n",
       "3  HAWESWATER HOUSE,\\nLINGLEY MERE BUSINESS PARK,...  \n",
       "4  AMBERFIELD BARN HOUSE AMBER LANE,\\nCHART SUTTO...  "
      ]
     },
     "execution_count": 71,
     "metadata": {},
     "output_type": "execute_result"
    }
   ],
   "source": [
    "customers[\"address_clean\"] = customers[\"address\"].str.upper()\n",
    "customers.head()"
   ]
  },
  {
   "cell_type": "code",
   "execution_count": 72,
   "id": "0ccdc841-1da2-4c1e-a386-3f1fb8ebd454",
   "metadata": {},
   "outputs": [
    {
     "data": {
      "text/plain": [
       "21768"
      ]
     },
     "execution_count": 72,
     "metadata": {},
     "output_type": "execute_result"
    }
   ],
   "source": [
    "## we can investigate the difference between looking for \"LONDON\" and \"LONDON,\"\n",
    "len(customers[customers[\"address_clean\"].str.contains(\"LONDON\")])"
   ]
  },
  {
   "cell_type": "code",
   "execution_count": 73,
   "id": "0071bd79-5d02-40a5-bcea-611fbb2d0e08",
   "metadata": {},
   "outputs": [
    {
     "data": {
      "text/plain": [
       "20831"
      ]
     },
     "execution_count": 73,
     "metadata": {},
     "output_type": "execute_result"
    }
   ],
   "source": [
    "len(customers[customers[\"address_clean\"].str.contains(\"LONDON,\")])"
   ]
  },
  {
   "cell_type": "code",
   "execution_count": 74,
   "id": "40fcc6b4-4ab2-4ac4-8084-cd49eb0789b8",
   "metadata": {},
   "outputs": [
    {
     "data": {
      "text/plain": [
       "address_lines\n",
       "1        6\n",
       "2       52\n",
       "3     3284\n",
       "4    35850\n",
       "5    45931\n",
       "6    13909\n",
       "Name: count, dtype: int64"
      ]
     },
     "execution_count": 74,
     "metadata": {},
     "output_type": "execute_result"
    }
   ],
   "source": [
    "customers[\"address_lines\"] = ( customers[\"address_clean\"].str.split(\",\\n\").apply(len))\n",
    "\n",
    "customers[\"address_lines\"].value_counts().sort_index()"
   ]
  },
  {
   "cell_type": "markdown",
   "id": "fd249f10-ef41-4502-8741-33481b72294b",
   "metadata": {},
   "source": [
    "We can observe that some addresses consist of only one or two lines"
   ]
  },
  {
   "cell_type": "code",
   "execution_count": 76,
   "id": "1d9ee37a-3d97-4daa-a256-a07d939d286a",
   "metadata": {},
   "outputs": [
    {
     "name": "stdout",
     "output_type": "stream",
     "text": [
      "17789                      FALKIRK\n",
      "31897                   HADDINGTON\n",
      "61750          CREAG BHAITHEACHAIN\n",
      "75330                     NEWMILNS\n",
      "78045    REDCLOAK FARM, STONEHAVEN\n",
      "90897     REFER TO PARENT REGISTRY\n",
      "Name: address_clean, dtype: object\n"
     ]
    }
   ],
   "source": [
    "print(customers.loc[customers[\"address_lines\"] == 1, \"address_clean\"])"
   ]
  },
  {
   "cell_type": "code",
   "execution_count": 77,
   "id": "c7ebba70-5fea-4e0f-afab-f4bc8df2beb0",
   "metadata": {},
   "outputs": [
    {
     "name": "stdout",
     "output_type": "stream",
     "text": [
      "39443                                    FORFAR,\\nANGUS\n",
      "80846                        12 HOPE STREET,\\nEDINBURGH\n",
      "95979    BRANCH REGISTRATION,\\nREFER TO PARENT REGISTRY\n",
      "23563    BRANCH REGISTRATION,\\nREFER TO PARENT REGISTRY\n",
      "81155                             PO BOX 2230,\\nGLASGOW\n",
      "Name: address_clean, dtype: object\n"
     ]
    }
   ],
   "source": [
    "print((\n",
    "    customers[customers[\"address_lines\"] == 2].sample(5, random_state = 42) [\"address_clean\"])\n",
    "     )\n",
    "    "
   ]
  },
  {
   "cell_type": "code",
   "execution_count": null,
   "id": "89443452-2571-4473-8418-fe4a0837f506",
   "metadata": {},
   "outputs": [],
   "source": []
  },
  {
   "cell_type": "code",
   "execution_count": 114,
   "id": "3a623afd-0740-4376-b4a0-d85ccbd5eac1",
   "metadata": {},
   "outputs": [
    {
     "name": "stdout",
     "output_type": "stream",
     "text": [
      "<class 'pandas.core.frame.DataFrame'>\n",
      "['city']\n"
     ]
    }
   ],
   "source": [
    "cities = pd.read_csv(\"./data/cities.csv\", header=None, names=[\"city\"])\n",
    "cities.head()\n",
    "\n",
    "\"\"\" here I am checking type because I got an \n",
    " error below the section.   \"cities_to_remove = cities[cities['city'].isin(countries_to_remove)].index    that is column name issue\"\"\"\n",
    "\n",
    "print(type(cities)) \n",
    "print(cities.columns.tolist()) # See the actual column names"
   ]
  },
  {
   "cell_type": "code",
   "execution_count": 116,
   "id": "ee7f6612-b491-4f5c-9f66-69af58a9baaf",
   "metadata": {},
   "outputs": [
    {
     "name": "stdout",
     "output_type": "stream",
     "text": [
      "80\n",
      "              city\n",
      "0          England\n",
      "1             Bath\n",
      "2      Birmingham*\n",
      "3        Bradford*\n",
      "4  Brighton & Hove\n",
      "76\n"
     ]
    },
    {
     "data": {
      "text/plain": [
       "1               Bath\n",
       "2         Birmingham\n",
       "3           Bradford\n",
       "4    Brighton & Hove\n",
       "5            Bristol\n",
       "Name: city, dtype: object"
      ]
     },
     "execution_count": 116,
     "metadata": {},
     "output_type": "execute_result"
    }
   ],
   "source": [
    "countries_to_remove = [\"England\", \"Scotland\", \"Wales\", \"Northern Ireland\"]\n",
    "\n",
    "print(len(cities))\n",
    "cities_to_remove = cities[cities['city'].isin(countries_to_remove)].index\n",
    "cities = cities.drop(index=cities_to_remove)\n",
    "print(len(cities))\n",
    "\n",
    "cities = cities[\"city\"].str.replace(\"*\", \"\", regex=False)\n",
    "cities[\"city\"] = cities[\"city\"].str.upper()\n",
    "\n",
    "cities. head()\n"
   ]
  },
  {
   "cell_type": "code",
   "execution_count": null,
   "id": "7d84f18e-17c3-4dcf-8ba9-d87002d9add0",
   "metadata": {},
   "outputs": [],
   "source": []
  }
 ],
 "metadata": {
  "kernelspec": {
   "display_name": "Python [conda env:base] *",
   "language": "python",
   "name": "conda-base-py"
  },
  "language_info": {
   "codemirror_mode": {
    "name": "ipython",
    "version": 3
   },
   "file_extension": ".py",
   "mimetype": "text/x-python",
   "name": "python",
   "nbconvert_exporter": "python",
   "pygments_lexer": "ipython3",
   "version": "3.12.7"
  }
 },
 "nbformat": 4,
 "nbformat_minor": 5
}
