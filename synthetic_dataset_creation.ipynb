{
 "cells": [
  {
   "cell_type": "code",
   "execution_count": 7,
   "id": "34dcd97f-d92b-463d-887d-0cf687a45906",
   "metadata": {},
   "outputs": [],
   "source": [
    "import pandas as pd\n",
    "import numpy as np"
   ]
  },
  {
   "cell_type": "code",
   "execution_count": 8,
   "id": "2eb8a98e-4063-4140-b3ab-e4bad2e86c11",
   "metadata": {},
   "outputs": [],
   "source": [
    "# Set random seed for reproducibility\n",
    "np.random.seed(42)"
   ]
  },
  {
   "cell_type": "code",
   "execution_count": 9,
   "id": "e0dc3c89-c31a-4d8b-a104-0553d85ce8a1",
   "metadata": {},
   "outputs": [],
   "source": [
    "# Generate simulated data\n",
    "n = 1000  # Number of data points\n",
    "dates = pd.date_range(start=\"2020-01-01\", periods=n, freq=\"D\")\n",
    "marketing_spend = np.random.normal(5000, 2000, n)  # Simulate marketing spend\n",
    "seasonality = np.random.choice([1, 2, 3, 4], size=n)  # Simulate seasonal factor\n",
    "price = np.random.normal(20, 5, n)  # Simulate price\n",
    "competitor_sales = np.random.normal(10000, 5000, n)  # Simulate competitor sales\n"
   ]
  },
  {
   "cell_type": "code",
   "execution_count": 14,
   "id": "067fc93f-3a2e-40ab-8d66-49d0dd1ebe7c",
   "metadata": {},
   "outputs": [],
   "source": [
    "# Generate a target sales variable (sales)\n",
    "sales = (0.5 * marketing_spend + 0.3 * seasonality + 0.1 * price + 0.1 * competitor_sales + np.random.normal(0, 500, n))\n"
   ]
  },
  {
   "cell_type": "code",
   "execution_count": 16,
   "id": "95b0b973-46ea-4161-8eff-bbb90725cf69",
   "metadata": {},
   "outputs": [],
   "source": [
    "# Create DataFrame\n",
    "data = pd.DataFrame({\n",
    "    'Date': dates,\n",
    "    'Marketing Spend': marketing_spend,\n",
    "    'Seasonality': seasonality,\n",
    "    'Product Price': price,\n",
    "    'Competitor Sales': competitor_sales,\n",
    "    'Sales': sales\n",
    "})"
   ]
  },
  {
   "cell_type": "code",
   "execution_count": 18,
   "id": "1cd18e85-3e6f-43a3-833b-db8b4fe04a45",
   "metadata": {},
   "outputs": [
    {
     "data": {
      "text/html": [
       "<div>\n",
       "<style scoped>\n",
       "    .dataframe tbody tr th:only-of-type {\n",
       "        vertical-align: middle;\n",
       "    }\n",
       "\n",
       "    .dataframe tbody tr th {\n",
       "        vertical-align: top;\n",
       "    }\n",
       "\n",
       "    .dataframe thead th {\n",
       "        text-align: right;\n",
       "    }\n",
       "</style>\n",
       "<table border=\"1\" class=\"dataframe\">\n",
       "  <thead>\n",
       "    <tr style=\"text-align: right;\">\n",
       "      <th></th>\n",
       "      <th>Date</th>\n",
       "      <th>Marketing Spend</th>\n",
       "      <th>Seasonality</th>\n",
       "      <th>Product Price</th>\n",
       "      <th>Competitor Sales</th>\n",
       "      <th>Sales</th>\n",
       "    </tr>\n",
       "  </thead>\n",
       "  <tbody>\n",
       "    <tr>\n",
       "      <th>0</th>\n",
       "      <td>2020-01-01</td>\n",
       "      <td>5993.428306</td>\n",
       "      <td>3</td>\n",
       "      <td>18.173392</td>\n",
       "      <td>9582.810151</td>\n",
       "      <td>4943.983596</td>\n",
       "    </tr>\n",
       "    <tr>\n",
       "      <th>1</th>\n",
       "      <td>2020-01-02</td>\n",
       "      <td>4723.471398</td>\n",
       "      <td>4</td>\n",
       "      <td>20.923402</td>\n",
       "      <td>2751.773902</td>\n",
       "      <td>1947.211458</td>\n",
       "    </tr>\n",
       "    <tr>\n",
       "      <th>2</th>\n",
       "      <td>2020-01-03</td>\n",
       "      <td>6295.377076</td>\n",
       "      <td>1</td>\n",
       "      <td>13.264369</td>\n",
       "      <td>5390.700934</td>\n",
       "      <td>3941.179689</td>\n",
       "    </tr>\n",
       "    <tr>\n",
       "      <th>3</th>\n",
       "      <td>2020-01-04</td>\n",
       "      <td>8046.059713</td>\n",
       "      <td>4</td>\n",
       "      <td>15.141930</td>\n",
       "      <td>4980.213140</td>\n",
       "      <td>5268.321918</td>\n",
       "    </tr>\n",
       "    <tr>\n",
       "      <th>4</th>\n",
       "      <td>2020-01-05</td>\n",
       "      <td>4531.693251</td>\n",
       "      <td>3</td>\n",
       "      <td>26.002070</td>\n",
       "      <td>11036.336647</td>\n",
       "      <td>4508.705370</td>\n",
       "    </tr>\n",
       "  </tbody>\n",
       "</table>\n",
       "</div>"
      ],
      "text/plain": [
       "        Date  Marketing Spend  Seasonality  Product Price  Competitor Sales  \\\n",
       "0 2020-01-01      5993.428306            3      18.173392       9582.810151   \n",
       "1 2020-01-02      4723.471398            4      20.923402       2751.773902   \n",
       "2 2020-01-03      6295.377076            1      13.264369       5390.700934   \n",
       "3 2020-01-04      8046.059713            4      15.141930       4980.213140   \n",
       "4 2020-01-05      4531.693251            3      26.002070      11036.336647   \n",
       "\n",
       "         Sales  \n",
       "0  4943.983596  \n",
       "1  1947.211458  \n",
       "2  3941.179689  \n",
       "3  5268.321918  \n",
       "4  4508.705370  "
      ]
     },
     "execution_count": 18,
     "metadata": {},
     "output_type": "execute_result"
    }
   ],
   "source": [
    "data.head()\n"
   ]
  },
  {
   "cell_type": "code",
   "execution_count": 22,
   "id": "9a7e4cc2-db9e-4981-9109-649607a9b5d0",
   "metadata": {},
   "outputs": [],
   "source": [
    "# Save to CSV\n",
    "data.to_csv(\"simulated_sales_data.csv\", index=False)"
   ]
  },
  {
   "cell_type": "code",
   "execution_count": null,
   "id": "c9314f5b-3eb1-4098-b439-30e9f9ee93e8",
   "metadata": {},
   "outputs": [],
   "source": []
  }
 ],
 "metadata": {
  "kernelspec": {
   "display_name": "Python [conda env:base] *",
   "language": "python",
   "name": "conda-base-py"
  },
  "language_info": {
   "codemirror_mode": {
    "name": "ipython",
    "version": 3
   },
   "file_extension": ".py",
   "mimetype": "text/x-python",
   "name": "python",
   "nbconvert_exporter": "python",
   "pygments_lexer": "ipython3",
   "version": "3.12.7"
  }
 },
 "nbformat": 4,
 "nbformat_minor": 5
}
